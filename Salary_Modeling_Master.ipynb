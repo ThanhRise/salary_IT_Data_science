{
 "cells": [
  {
   "cell_type": "code",
   "execution_count": 1,
   "metadata": {},
   "outputs": [],
   "source": [
    "import time\n",
    "import nltk\n",
    "from nltk.corpus import stopwords\n",
    "\n",
    "#NLP\n",
    "from nltk import word_tokenize, FreqDist\n",
    "from nltk.corpus import stopwords\n",
    "from nltk.collocations import *\n",
    "import string, re\n",
    "from gensim.models import Word2Vec\n",
    "from sklearn.manifold import TSNE\n",
    "from sklearn.feature_extraction.text import TfidfVectorizer\n",
    "\n",
    "#Model Data Prep\n",
    "from sklearn.model_selection import train_test_split\n",
    "from sklearn.preprocessing import StandardScaler, OneHotEncoder\n",
    "from sklearn.impute import SimpleImputer\n",
    "\n",
    "#Machine Learning\n",
    "from sklearn.metrics import accuracy_score, f1_score, mean_squared_error, r2_score\n",
    "from sklearn.ensemble import RandomForestRegressor, RandomForestClassifier\n",
    "from sklearn.ensemble import GradientBoostingClassifier\n",
    "from sklearn.decomposition import PCA\n",
    "from sklearn.svm import SVC\n",
    "from sklearn.svm import SVR\n",
    "from sklearn.linear_model import LinearRegression, SGDClassifier\n",
    "from sklearn.pipeline import Pipeline\n",
    "from sklearn.model_selection import cross_val_score\n",
    "from sklearn.model_selection import GridSearchCV\n",
    "from sklearn.metrics import confusion_matrix\n",
    "# XGBoost\n",
    "from xgboost import XGBRegressor\n",
    "from xgboost import XGBClassifier\n",
    "\n",
    "\n",
    "#Save Model\n",
    "import pickle\n",
    "\n",
    "import matplotlib.pyplot as plt\n",
    "\n",
    "# import tdqm\n",
    "from tqdm import tqdm\n",
    "\n",
    "\n",
    "from pprint import pprint\n",
    "import time\n",
    "import logging\n",
    "\n",
    "import pandas as pd\n",
    "import numpy as np\n",
    "import seaborn as sns\n",
    "import matplotlib.pyplot as plt\n",
    "\n",
    "%matplotlib inline\n",
    "np.random.seed(0)"
   ]
  },
  {
   "cell_type": "code",
   "execution_count": 2,
   "metadata": {},
   "outputs": [],
   "source": [
    "data_df = pd.read_csv('processing/data_df_V2.csv')"
   ]
  },
  {
   "cell_type": "code",
   "execution_count": 3,
   "metadata": {},
   "outputs": [
    {
     "name": "stdout",
     "output_type": "stream",
     "text": [
      "<class 'pandas.core.frame.DataFrame'>\n",
      "RangeIndex: 7051 entries, 0 to 7050\n",
      "Data columns (total 21 columns):\n",
      " #   Column             Non-Null Count  Dtype  \n",
      "---  ------             --------------  -----  \n",
      " 0   Job Title          7051 non-null   object \n",
      " 1   Salary Estimate    7051 non-null   object \n",
      " 2   Job Description    7051 non-null   object \n",
      " 3   Rating             6241 non-null   float64\n",
      " 4   Company Name       7051 non-null   object \n",
      " 5   Location           7025 non-null   object \n",
      " 6   Size               5532 non-null   object \n",
      " 7   Founded            4653 non-null   float64\n",
      " 8   Type of ownership  5974 non-null   object \n",
      " 9   Industry           5474 non-null   object \n",
      " 10  Sector             5474 non-null   object \n",
      " 11  Revenue            3847 non-null   object \n",
      " 12  City               7025 non-null   object \n",
      " 13  State              6566 non-null   object \n",
      " 14  Salary Min         7051 non-null   float64\n",
      " 15  Salary Max         7051 non-null   float64\n",
      " 16  Revenue Index      3847 non-null   float64\n",
      " 17  Size Index         5532 non-null   float64\n",
      " 18  Ownership Index    5925 non-null   float64\n",
      " 19  Industry Index     5474 non-null   float64\n",
      " 20  Sector Index       5474 non-null   float64\n",
      "dtypes: float64(9), object(12)\n",
      "memory usage: 1.1+ MB\n"
     ]
    }
   ],
   "source": [
    "data_df.info()"
   ]
  },
  {
   "cell_type": "code",
   "execution_count": 5,
   "metadata": {},
   "outputs": [],
   "source": [
    "# add average salary\n",
    "data_df['Average Salary'] = (data_df['Salary Min'] + data_df['Salary Max']) / 2\n",
    "# add age of company\n",
    "data_df['Age of company'] = time.localtime().tm_year - data_df['Founded']"
   ]
  },
  {
   "cell_type": "code",
   "execution_count": 6,
   "metadata": {},
   "outputs": [],
   "source": [
    "# create salary bins\n",
    "BINS = [0,50000,70000,90000,120000,150000,200000,500000]\n",
    "# LABELS = ['0-50k','50-70k','70-90k','90-120k','120-150k','150-200k','200k+']\n",
    "data_df['Salary Range'] = pd.cut(data_df['Average Salary'], bins=BINS, labels=False)"
   ]
  },
  {
   "cell_type": "code",
   "execution_count": 6,
   "metadata": {},
   "outputs": [
    {
     "data": {
      "text/plain": [
       "3    1997\n",
       "2    1172\n",
       "4    1134\n",
       "1     883\n",
       "5     873\n",
       "0     541\n",
       "6     451\n",
       "Name: Salary Range, dtype: int64"
      ]
     },
     "execution_count": 6,
     "metadata": {},
     "output_type": "execute_result"
    }
   ],
   "source": [
    "data_df['Salary Range'].value_counts()"
   ]
  },
  {
   "cell_type": "code",
   "execution_count": 7,
   "metadata": {},
   "outputs": [],
   "source": [
    "target_data = data_df['Salary Range'].astype('category')"
   ]
  },
  {
   "cell_type": "code",
   "execution_count": 8,
   "metadata": {},
   "outputs": [],
   "source": [
    "def clean_word(job_descriptions):\n",
    "    jd_data=[]\n",
    "    pattern = \"([a-zA-Z]+(?:'[a-z]+)?)\"\n",
    "    stopwords_list = stopwords.words('english')\n",
    "    stopwords_list += list(string.punctuation)\n",
    "    stopwords_list += ['0', '1', '2', '3', '4', '5', '6', '7', '8', '9']\n",
    "    stopwords_list += ['www','http','com','llc','covid','non','pm','am','eg','e','g','ie','i']\n",
    "    \n",
    "    for jd in job_descriptions:\n",
    "        jd_tokens_raw = nltk.regexp_tokenize(jd, pattern)\n",
    "        jd_tokens=[word.lower() for word in jd_tokens_raw]\n",
    "        jd_words_stopped = [word for word in jd_tokens if word not in stopwords_list]\n",
    "        jd_data.append(jd_words_stopped)\n",
    "\n",
    "    return pd.Series(jd_data) # Turn list of lists to series of lists to use in Word2Vec"
   ]
  },
  {
   "cell_type": "code",
   "execution_count": 9,
   "metadata": {},
   "outputs": [],
   "source": [
    "data_df['Cleaned Job Description'] = clean_word(data_df['Job Description'])"
   ]
  },
  {
   "cell_type": "code",
   "execution_count": 10,
   "metadata": {},
   "outputs": [],
   "source": [
    "data_df['Cleaned Job Title'] = clean_word(data_df['Job Title'])"
   ]
  },
  {
   "cell_type": "code",
   "execution_count": 11,
   "metadata": {},
   "outputs": [],
   "source": [
    "Training_data = data_df[['Cleaned Job Description','Cleaned Job Title','Revenue','Size','Age of company', 'Rating']]"
   ]
  },
  {
   "cell_type": "markdown",
   "metadata": {},
   "source": []
  },
  {
   "cell_type": "code",
   "execution_count": 12,
   "metadata": {},
   "outputs": [],
   "source": [
    "# # get dummy data for categorical variables\n",
    "Training_data = pd.get_dummies(Training_data, columns=['Revenue','Size'])"
   ]
  },
  {
   "cell_type": "code",
   "execution_count": 13,
   "metadata": {},
   "outputs": [],
   "source": [
    "# fill missing values in age of company and rating\n",
    "Training_data['Age of company'].fillna(np.random.normal(Training_data['Age of company'].mean(), Training_data['Age of company'].std()), inplace=True)\n",
    "Training_data['Rating'].fillna(np.random.normal(Training_data['Rating'].mean(), Training_data['Rating'].std()), inplace=True)"
   ]
  },
  {
   "cell_type": "code",
   "execution_count": 14,
   "metadata": {},
   "outputs": [],
   "source": [
    "\n",
    "X_train, X_test, y_train, y_test = train_test_split(Training_data, target_data, test_size=0.15, random_state=0)"
   ]
  },
  {
   "cell_type": "code",
   "execution_count": 15,
   "metadata": {},
   "outputs": [
    {
     "name": "stdout",
     "output_type": "stream",
     "text": [
      "<class 'pandas.core.frame.DataFrame'>\n",
      "Int64Index: 5993 entries, 2920 to 2732\n",
      "Data columns (total 20 columns):\n",
      " #   Column                                    Non-Null Count  Dtype  \n",
      "---  ------                                    --------------  -----  \n",
      " 0   Cleaned Job Description                   5993 non-null   object \n",
      " 1   Cleaned Job Title                         5993 non-null   object \n",
      " 2   Age of company                            5993 non-null   float64\n",
      " 3   Rating                                    5993 non-null   float64\n",
      " 4   Revenue_$1 to $5 billion (USD)            5993 non-null   uint8  \n",
      " 5   Revenue_$1 to $5 million (USD)            5993 non-null   uint8  \n",
      " 6   Revenue_$10+ billion (USD)                5993 non-null   uint8  \n",
      " 7   Revenue_$100 to $500 million (USD)        5993 non-null   uint8  \n",
      " 8   Revenue_$25 to $100 million (USD)         5993 non-null   uint8  \n",
      " 9   Revenue_$5 to $10 billion (USD)           5993 non-null   uint8  \n",
      " 10  Revenue_$5 to $25 million (USD)           5993 non-null   uint8  \n",
      " 11  Revenue_$500 million to $1 billion (USD)  5993 non-null   uint8  \n",
      " 12  Revenue_Less than $1 million (USD)        5993 non-null   uint8  \n",
      " 13  Size_1 to 50 Employees                    5993 non-null   uint8  \n",
      " 14  Size_10000+ Employees                     5993 non-null   uint8  \n",
      " 15  Size_1001 to 5000 Employees               5993 non-null   uint8  \n",
      " 16  Size_201 to 500 Employees                 5993 non-null   uint8  \n",
      " 17  Size_5001 to 10000 Employees              5993 non-null   uint8  \n",
      " 18  Size_501 to 1000 Employees                5993 non-null   uint8  \n",
      " 19  Size_51 to 200 Employees                  5993 non-null   uint8  \n",
      "dtypes: float64(2), object(2), uint8(16)\n",
      "memory usage: 327.7+ KB\n"
     ]
    }
   ],
   "source": [
    "X_train.info()"
   ]
  },
  {
   "cell_type": "markdown",
   "metadata": {},
   "source": [
    "Model 1: Use Word2Vec Embedding in Classification Models"
   ]
  },
  {
   "cell_type": "code",
   "execution_count": 16,
   "metadata": {},
   "outputs": [
    {
     "name": "stdout",
     "output_type": "stream",
     "text": [
      "Random Forest Classifier\n",
      "Accuracy Score:  0.5368620037807184\n",
      "F1 Score:  0.52942325814835\n",
      "Stockastic Gradient Descent Classifier\n",
      "Accuracy Score:  0.29773156899810965\n",
      "F1 Score:  0.22409492918220852\n"
     ]
    }
   ],
   "source": [
    "# Model 1: Use Word2Vec Embedding in Classification Models\n",
    "\n",
    "# Create Word2Vec Model\n",
    "w2v_model_description = Word2Vec(X_train['Cleaned Job Description'], vector_size=64, window=5, min_count=1, workers=4)\n",
    "w2v_model_title = Word2Vec(X_train['Cleaned Job Title'], vector_size=32, window=3, min_count=1, workers=4)\n",
    "\n",
    "# Create Average Word Embedding\n",
    "def average_word_vectors(words, model, vocabulary, num_features):\n",
    "    feature_vector = np.zeros((num_features,),dtype=\"float64\")\n",
    "    nwords = 0.\n",
    "    for word in words:\n",
    "        if word in vocabulary: \n",
    "            nwords = nwords + 1.\n",
    "            feature_vector = np.add(feature_vector, model.wv[word])\n",
    "    if nwords:\n",
    "        feature_vector = np.divide(feature_vector, nwords)\n",
    "    return feature_vector\n",
    "\n",
    "def averaged_word_vectorizer(corpus, model, num_features):\n",
    "    vocabulary = set(model.wv.index_to_key)\n",
    "    features = [average_word_vectors(tokenized_sentence, model, vocabulary, num_features) for tokenized_sentence in corpus]\n",
    "    return np.array(features)\n",
    "\n",
    "# Create Average Word Embedding for Training and Test Data\n",
    "avg_wv_train_description = averaged_word_vectorizer(corpus=X_train['Cleaned Job Description'], model=w2v_model_description, num_features=64)\n",
    "avg_wv_test_description = averaged_word_vectorizer(corpus=X_test['Cleaned Job Description'], model=w2v_model_description, num_features=64)\n",
    "\n",
    "avg_wv_train_title = averaged_word_vectorizer(corpus=X_train['Cleaned Job Title'], model=w2v_model_title, num_features=32)\n",
    "avg_wv_test_title = averaged_word_vectorizer(corpus=X_test['Cleaned Job Title'], model=w2v_model_title, num_features=32)\n",
    "\n",
    "# Create Training and Test Data\n",
    "X_train_w2v = np.concatenate((avg_wv_train_description, avg_wv_train_title, X_train.iloc[:,2:].values), axis=1)\n",
    "X_test_w2v = np.concatenate((avg_wv_test_description, avg_wv_test_title, X_test.iloc[:,2:].values), axis=1)\n",
    "\n",
    "# Random Forest Classifier\n",
    "rfc = RandomForestClassifier(n_estimators=64, random_state=0)\n",
    "rfc.fit(X_train_w2v, y_train)\n",
    "y_pred = rfc.predict(X_test_w2v)\n",
    "print('Random Forest Classifier')\n",
    "print('Accuracy Score: ', accuracy_score(y_test, y_pred))\n",
    "print('F1 Score: ', f1_score(y_test, y_pred, average='weighted'))\n",
    "\n",
    "# # Gradient Boosting Classifier\n",
    "# gbc = GradientBoostingClassifier(n_estimators=200, random_state=0)\n",
    "# gbc.fit(X_train_w2v, y_train)\n",
    "# y_pred = gbc.predict(X_test_w2v)\n",
    "# print('Accuracy Score: ', accuracy_score(y_test, y_pred))\n",
    "# print('F1 Score: ', f1_score(y_test, y_pred, average='weighted'))\n",
    "\n",
    "# Support Vector Classifier\n",
    "# svc = SVC(kernel='linear', random_state=0)\n",
    "# svc.fit(X_train_w2v, y_train)\n",
    "# y_pred = svc.predict(X_test_w2v)\n",
    "# print('Support Vector Classifier')\n",
    "# print('Accuracy Score: ', accuracy_score(y_test, y_pred))\n",
    "\n",
    "# Stockastic Gradient Descent Classifier\n",
    "sgdc = SGDClassifier(random_state=0)\n",
    "sgdc.fit(X_train_w2v, y_train)\n",
    "y_pred = sgdc.predict(X_test_w2v)\n",
    "print('Stockastic Gradient Descent Classifier')\n",
    "print('Accuracy Score: ', accuracy_score(y_test, y_pred))\n",
    "print('F1 Score: ', f1_score(y_test, y_pred, average='weighted'))\n"
   ]
  },
  {
   "cell_type": "code",
   "execution_count": 17,
   "metadata": {},
   "outputs": [],
   "source": [
    "# # Random Forest Classifier is more accurate and has a higher F1 score than other models.\n",
    "# #  ==> Worthy to do some grid search.\n",
    "\n",
    "# # Random Forest with Grid Search\n",
    "\n",
    "# # Create Pipeline\n",
    "# pipe = Pipeline([('classifier' , RandomForestClassifier())])\n",
    "# # Create param grid.\n",
    "# param_grid = [\n",
    "#     {'classifier' : [RandomForestClassifier()],\n",
    "#      'classifier__n_estimators' : [100, 300, 500],\n",
    "#      'classifier__max_features' : ['auto', 'sqrt', 'log2'],\n",
    "#      'classifier__max_depth' : [10, 20, 50],\n",
    "#      'classifier__criterion' : ['gini', 'entropy']}\n",
    "# ]\n",
    "# # Create grid search object\n",
    "# clf = GridSearchCV(pipe, param_grid = param_grid, cv = 5, verbose=True, n_jobs=-1)\n",
    "# # Fit on data\n",
    "# best_clf = clf.fit(X_train_w2v, y_train)\n",
    "# # Best accuracy\n",
    "# print('Best Accuracy:', best_clf.best_score_)\n",
    "# # Best params\n",
    "# print('Best Params:', best_clf.best_params_)\n",
    "# # Predict target vector\n",
    "# y_pred = best_clf.predict(X_test_w2v)\n",
    "# # Check accuracy score\n",
    "# print('Accuracy Score: ', accuracy_score(y_test, y_pred))\n",
    "# # Check F1 score\n",
    "# print('F1 Score: ', f1_score(y_test, y_pred, average='weighted'))"
   ]
  },
  {
   "cell_type": "code",
   "execution_count": 18,
   "metadata": {},
   "outputs": [],
   "source": [
    "# # SGD Classifier in the pipeline\n",
    "# pipe = Pipeline([('classifier' , SGDClassifier())])\n",
    "# # Create param grid.\n",
    "# param_grid = [\n",
    "#     {'classifier' : [SGDClassifier()],\n",
    "#      'classifier__loss' : ['hinge', 'log', 'modified_huber', 'squared_hinge', 'perceptron'],\n",
    "#      'classifier__penalty' : ['l2', 'l1', 'elasticnet'],\n",
    "#      'classifier__alpha' : [0.0001, 0.001, 0.01, 0.1, 1, 10, 100]}\n",
    "# ]\n",
    "# # Create grid search object\n",
    "# clf = GridSearchCV(pipe, param_grid = param_grid, cv = 5, verbose=True, n_jobs=-1)\n",
    "# # Fit on data\n",
    "# best_clf = clf.fit(X_train_w2v, y_train)\n",
    "# # Best accuracy\n",
    "# print('Best Accuracy:', best_clf.best_score_)\n",
    "# # Best params\n",
    "# print('Best Params:', best_clf.best_params_)\n",
    "# # Predict target vector\n",
    "# y_pred = best_clf.predict(X_test_w2v)\n",
    "# # Check accuracy score\n",
    "# print('Accuracy Score: ', accuracy_score(y_test, y_pred))\n",
    "# # Check F1 score\n",
    "# print('F1 Score: ', f1_score(y_test, y_pred, average='weighted'))\n",
    "\n",
    "    "
   ]
  },
  {
   "cell_type": "markdown",
   "metadata": {},
   "source": [
    "Best Accuracy: 0.3645938996406286\n",
    "\n",
    "Best Params: {'clf__alpha': 0.0001, 'clf__l1_ratio': 0.1, 'clf__max_iter': 100, 'clf__penalty': 'l2'}\n",
    "\n",
    "Accuracy Score:  0.10586011342155009\n",
    "\n",
    "F1 Score:  0.056503397601535374"
   ]
  },
  {
   "cell_type": "markdown",
   "metadata": {},
   "source": [
    "<font color = green size = 10>model 2: Use TF-IDF in Classification Models</font>"
   ]
  },
  {
   "cell_type": "code",
   "execution_count": 12,
   "metadata": {},
   "outputs": [],
   "source": [
    "from pprint import pprint\n",
    "import logging\n",
    "\n",
    "from sklearn.feature_extraction.text import CountVectorizer\n",
    "from sklearn.feature_extraction.text import TfidfTransformer\n",
    "from sklearn.linear_model import SGDClassifier\n",
    "from sklearn.ensemble import RandomForestClassifier\n",
    "from sklearn.model_selection import GridSearchCV\n",
    "from sklearn.pipeline import Pipeline"
   ]
  },
  {
   "cell_type": "code",
   "execution_count": 20,
   "metadata": {},
   "outputs": [],
   "source": [
    "Train_data_2 = data_df[['Job Description','Job Title','Revenue','Size','Age of company', 'Rating']]\n",
    "\n",
    "Train_data_2 = pd.get_dummies(Train_data_2, columns=['Revenue','Size'])\n",
    "\n",
    "Train_data_2['Rating'] = Train_data_2['Rating'].astype('float', errors='ignore')\n",
    "\n",
    "# fill missing values in age of company and rating with gaussian distribution\n",
    "Train_data_2['Age of company'].fillna(np.random.normal(Train_data_2['Age of company'].mean(), Train_data_2['Age of company'].std()), inplace=True)\n",
    "Train_data_2['Rating'].fillna(np.random.normal(Train_data_2['Rating'].mean(), Train_data_2['Rating'].std()), inplace=True)\n",
    "\n",
    "\n"
   ]
  },
  {
   "cell_type": "code",
   "execution_count": 21,
   "metadata": {},
   "outputs": [],
   "source": [
    "# model 2: Use TF-IDF in Classification Models\n",
    "\n",
    "\n",
    "X_train_model2, X_test_model2, y_train_model2, y_test_model2 = train_test_split(Train_data_2, target_data, test_size=0.15, random_state=0)\n",
    "\n",
    "# add TF-IDF for job description and job title then concatenate with other features\n",
    "tfidf = Pipeline([('vect', CountVectorizer(max_df=0.5, min_df=0.005, ngram_range=(1,3), stop_words='english')),\n",
    "                ('tfidf', TfidfTransformer(smooth_idf=False, use_idf=False))])\n",
    "\n",
    "X_train_tfidf = tfidf.fit_transform(X_train_model2['Job Description']) \n",
    "X_test_tfidf = tfidf.transform(X_test_model2['Job Description'])\n",
    "\n",
    "X_train_tfidf_title = tfidf.fit_transform(X_train_model2['Job Title'])\n",
    "X_test_tfidf_title = tfidf.transform(X_test_model2['Job Title'])\n",
    "\n"
   ]
  },
  {
   "cell_type": "code",
   "execution_count": 22,
   "metadata": {},
   "outputs": [
    {
     "data": {
      "text/plain": [
       "(5993, 15347)"
      ]
     },
     "execution_count": 22,
     "metadata": {},
     "output_type": "execute_result"
    }
   ],
   "source": [
    "test = np.concatenate((X_train_tfidf.toarray(), X_train_tfidf_title.toarray(), X_train.iloc[:,2:].values), axis=1)\n",
    "test.shape"
   ]
  },
  {
   "cell_type": "code",
   "execution_count": 23,
   "metadata": {},
   "outputs": [
    {
     "data": {
      "text/plain": [
       "(5993, 15162)"
      ]
     },
     "execution_count": 23,
     "metadata": {},
     "output_type": "execute_result"
    }
   ],
   "source": [
    "X_train_tfidf.shape"
   ]
  },
  {
   "cell_type": "code",
   "execution_count": 24,
   "metadata": {},
   "outputs": [
    {
     "name": "stdout",
     "output_type": "stream",
     "text": [
      "Accuracy Score:  0.5472589792060492\n",
      "F1 Score:  0.5308173013802016\n",
      "Accuracy Score:  0.5359168241965974\n",
      "F1 Score:  0.5317144742367517\n",
      "Accuracy Score:  0.3487712665406427\n",
      "F1 Score:  0.24401876931537228\n"
     ]
    }
   ],
   "source": [
    "\n",
    "X_train_full_model2 = np.concatenate((X_train_tfidf.toarray(), X_train_tfidf_title.toarray(), X_train.iloc[:,2:].values), axis=1)\n",
    "X_test_full_model2= np.concatenate((X_test_tfidf.toarray(), X_test_tfidf_title.toarray(), X_test.iloc[:,2:].values), axis=1)\n",
    "\n",
    "# X_train_full_model2 = X_train_tfidf\n",
    "# X_test_full_model2 = X_test_tfidf\n",
    "\n",
    "\n",
    "# Random Forest Classifier\n",
    "rfc = RandomForestClassifier(criterion='gini', max_features='sqrt', n_estimators=100, min_samples_split=10, max_depth=100, random_state=0)\n",
    "rfc.fit(X_train_full_model2, y_train)\n",
    "y_pred = rfc.predict(X_test_full_model2)\n",
    "print('Accuracy Score: ', accuracy_score(y_test, y_pred))\n",
    "print('F1 Score: ', f1_score(y_test, y_pred, average='weighted'))\n",
    "\n",
    "\n",
    "# XGBoost Classifier\n",
    "xgb = XGBClassifier()\n",
    "xgb.fit(X_train_full_model2, y_train)\n",
    "y_pred = xgb.predict(X_test_full_model2)\n",
    "print('Accuracy Score: ', accuracy_score(y_test, y_pred))\n",
    "print('F1 Score: ', f1_score(y_test, y_pred, average='weighted'))\n",
    "\n",
    "# # Support Vector Classifier\n",
    "# svc = SVC(kernel='linear', random_state=0)\n",
    "# svc.fit(X_train_tfidf, y_train)\n",
    "# y_pred = svc.predict(X_test_tfidf)\n",
    "# print('Accuracy Score: ', accuracy_score(y_test, y_pred))\n",
    "\n",
    "# Stockastic Gradient Descent Classifier\n",
    "sgdc = SGDClassifier(alpha=0.001, max_iter=500, n_jobs=3)\n",
    "sgdc.fit(X_train_full_model2, y_train)\n",
    "y_pred = sgdc.predict(X_test_full_model2)\n",
    "print('Accuracy Score: ', accuracy_score(y_test, y_pred))\n",
    "print('F1 Score: ', f1_score(y_test, y_pred, average='weighted'))"
   ]
  },
  {
   "cell_type": "code",
   "execution_count": 25,
   "metadata": {},
   "outputs": [],
   "source": [
    "# pd.Series(rfc.feature_importances_).plot(kind='barh', figsize=(15,10))"
   ]
  },
  {
   "cell_type": "code",
   "execution_count": null,
   "metadata": {},
   "outputs": [],
   "source": []
  },
  {
   "cell_type": "code",
   "execution_count": 26,
   "metadata": {},
   "outputs": [
    {
     "name": "stdout",
     "output_type": "stream",
     "text": [
      "Accuracy Score:  0.5236294896030246\n",
      "F1 Score:  0.5052737763623761\n"
     ]
    }
   ],
   "source": [
    "# SGD Classifier in the pipeline\n",
    "SGD = Pipeline([\n",
    "    ('vect', CountVectorizer(max_df=0.1, min_df=0.0001, ngram_range=(1,3), stop_words='english')),\n",
    "    ('tfidf', TfidfTransformer()),\n",
    "    ('clf', SGDClassifier(alpha=0.0001, max_iter=1000, n_jobs=3, loss='log_loss'))\n",
    "])\n",
    "\n",
    "# train is job title + job description\n",
    "classifier = SGD.fit(X_train_model2['Job Title'] + ' ' + X_train_model2['Job Description'], y_train_model2)\n",
    "y_pred = SGD.predict(X_test_model2['Job Title'] + ' ' + X_test_model2['Job Description'])\n",
    "print('Accuracy Score: ', accuracy_score(y_test_model2, y_pred))\n",
    "print('F1 Score: ', f1_score(y_test_model2, y_pred, average='weighted'))"
   ]
  },
  {
   "cell_type": "code",
   "execution_count": 27,
   "metadata": {},
   "outputs": [
    {
     "data": {
      "text/plain": [
       "0.5198487712665406"
      ]
     },
     "execution_count": 27,
     "metadata": {},
     "output_type": "execute_result"
    }
   ],
   "source": [
    "SGD.score(X_test_model2['Job Description'], y_test_model2)"
   ]
  },
  {
   "cell_type": "markdown",
   "metadata": {},
   "source": [
    "<font color = green size = 10>Model 3: Use Pretrained GloVe Model</font>"
   ]
  },
  {
   "cell_type": "code",
   "execution_count": 28,
   "metadata": {},
   "outputs": [],
   "source": [
    "total_words = set(word for job_description in data_df['Cleaned Job Description'] for word in job_description)"
   ]
  },
  {
   "cell_type": "code",
   "execution_count": 29,
   "metadata": {},
   "outputs": [],
   "source": [
    "total_words.update(set(word for job_title in data_df['Cleaned Job Title'] for word in job_title))"
   ]
  },
  {
   "cell_type": "code",
   "execution_count": 30,
   "metadata": {},
   "outputs": [
    {
     "name": "stdout",
     "output_type": "stream",
     "text": [
      "46289\n"
     ]
    }
   ],
   "source": [
    "max_length=len(total_words)\n",
    "print(max_length)"
   ]
  },
  {
   "cell_type": "code",
   "execution_count": 31,
   "metadata": {},
   "outputs": [
    {
     "name": "stdout",
     "output_type": "stream",
     "text": [
      "Found 400000 word vectors.\n"
     ]
    }
   ],
   "source": [
    "# Model 3: Use Pre-trained GloVe Embedding in Classification Models\n",
    "\n",
    "# Create GloVe Embedding\n",
    "embeddings_index = {}\n",
    "f = open('glove.6B.100d.txt', encoding='utf8')\n",
    "for line in f:\n",
    "    values = line.split()\n",
    "    word = values[0]\n",
    "    try:\n",
    "        coefs = np.asarray(values[1:], dtype='float32')\n",
    "        embeddings_index[word] = coefs\n",
    "    except ValueError:\n",
    "        pass\n",
    "f.close()\n",
    "\n",
    "print('Found %s word vectors.' % len(embeddings_index))"
   ]
  },
  {
   "cell_type": "code",
   "execution_count": 32,
   "metadata": {},
   "outputs": [],
   "source": [
    "# Create Embedding Matrix\n",
    "embedding_matrix = np.zeros((max_length, 100))\n",
    "for i, word in enumerate(total_words):\n",
    "    embedding_vector = embeddings_index.get(word)\n",
    "    if embedding_vector is not None:\n",
    "        embedding_matrix[i] = embedding_vector"
   ]
  },
  {
   "cell_type": "code",
   "execution_count": 33,
   "metadata": {},
   "outputs": [],
   "source": [
    "class W2vVectorizer(object):\n",
    "    \n",
    "    def __init__(self, w2v):\n",
    "        # Takes in a dictionary of words and vectors as input\n",
    "        self.w2v = w2v\n",
    "        if len(w2v) == 0:\n",
    "            self.dimensions = 0\n",
    "        else:\n",
    "            self.dimensions = len(w2v[next(iter(embeddings_index))])\n",
    "\n",
    "    def fit(self, X, y):\n",
    "        return self\n",
    "            \n",
    "    def transform(self, X):\n",
    "        return np.array([\n",
    "            np.mean([self.w2v[w] for w in words if w in self.w2v]\n",
    "                   or [np.zeros(self.dimensions)], axis=0) for words in X])"
   ]
  },
  {
   "cell_type": "code",
   "execution_count": 34,
   "metadata": {},
   "outputs": [],
   "source": [
    "Train_data3 = data_df[['Cleaned Job Description','Cleaned Job Title','Revenue','Size','Age of company', 'Rating']]\n",
    "Train_data3 = pd.get_dummies(Train_data3, columns=['Revenue','Size'])\n",
    "\n",
    "Train_data3['Rating'] = Train_data3['Rating'].astype('float', errors='ignore')\n",
    "# fill missing values in age of company and rating\n",
    "Train_data3['Age of company'].fillna(np.random.normal(Train_data3['Age of company'].mean(), Train_data3['Age of company'].std()), inplace=True)\n",
    "Train_data3['Rating'].fillna(np.random.normal(Train_data3['Rating'].mean(), Train_data3['Rating'].std()), inplace=True)"
   ]
  },
  {
   "cell_type": "code",
   "execution_count": 35,
   "metadata": {},
   "outputs": [],
   "source": [
    "X_train_3, X_test_3, y_train_3, y_test_3 = train_test_split(Train_data3, target_data, test_size=0.15, random_state=0)"
   ]
  },
  {
   "cell_type": "code",
   "execution_count": 36,
   "metadata": {},
   "outputs": [
    {
     "name": "stdout",
     "output_type": "stream",
     "text": [
      "Accuracy Score:  0.5434782608695652\n",
      "F1 Score:  0.5325475114642085\n",
      "**********************************************************\n",
      "Accuracy Score:  0.1994328922495274\n",
      "F1 Score:  0.19655635067369134\n"
     ]
    }
   ],
   "source": [
    "w2v_glove = W2vVectorizer(embeddings_index)\n",
    "x_train_description = w2v_glove.transform(X_train_3['Cleaned Job Description'])\n",
    "x_test_description = w2v_glove.transform(X_test_3['Cleaned Job Description'])\n",
    "\n",
    "x_train_title = w2v_glove.transform(X_train_3['Cleaned Job Title'])\n",
    "x_test_title = w2v_glove.transform(X_test_3['Cleaned Job Title'])\n",
    "\n",
    "x_train_glove = np.concatenate((x_train_description, x_train_title, X_train_3.iloc[:,2:].values), axis=1)\n",
    "x_test_glove = np.concatenate((x_test_description, x_test_title, X_test_3.iloc[:,2:].values), axis=1)\n",
    "\n",
    "# x_train_glove = np.concatenate((x_train_description, x_train_title), axis=1)\n",
    "# x_test_glove = np.concatenate((x_test_description, x_test_title), axis=1)\n",
    "\n",
    "# Random Forest Classifier\n",
    "rfc = RandomForestClassifier(n_estimators=100, random_state=0)\n",
    "rfc.fit(x_train_glove, y_train_3)\n",
    "y_pred = rfc.predict(x_test_glove)\n",
    "print('Accuracy Score: ', accuracy_score(y_test_3, y_pred)) \n",
    "print('F1 Score: ', f1_score(y_test_3, y_pred, average='weighted'))\n",
    "\n",
    "print('**********************************************************')\n",
    "# Stockastic Gradient Descent Classifier\n",
    "sgdc = SGDClassifier(random_state=0, alpha= 0.0001)\n",
    "sgdc.fit(x_train_glove, y_train_3)\n",
    "y_pred = sgdc.predict(x_test_glove)\n",
    "print('Accuracy Score: ', accuracy_score(y_test_3, y_pred))\n",
    "print('F1 Score: ', f1_score(y_test_3, y_pred, average='weighted'))\n",
    "\n"
   ]
  },
  {
   "cell_type": "markdown",
   "metadata": {},
   "source": [
    "<font size = 10 color = green>Model 4: Deep Learning Models with Word Embeddings</font>"
   ]
  },
  {
   "cell_type": "code",
   "execution_count": 3,
   "metadata": {},
   "outputs": [],
   "source": [
    "from keras.preprocessing.sequence import pad_sequences\n",
    "from keras.layers import Input, Dense, LSTM, Embedding\n",
    "from keras.layers import Dropout, Activation, Bidirectional, GlobalMaxPool1D\n",
    "\n",
    "from keras.models import Sequential\n",
    "from keras import initializers, regularizers, constraints, optimizers, layers\n",
    "from keras.preprocessing import sequence\n",
    "from keras.layers import Flatten\n",
    "\n",
    "from keras.callbacks import EarlyStopping\n",
    "\n",
    "from keras.utils import to_categorical\n",
    "\n",
    "import matplotlib.pyplot as plt"
   ]
  },
  {
   "cell_type": "code",
   "execution_count": 8,
   "metadata": {},
   "outputs": [],
   "source": [
    "Train_model4 = data_df[['Job Description','Job Title','Revenue','Size','Age of company', 'Rating']]"
   ]
  },
  {
   "cell_type": "code",
   "execution_count": 9,
   "metadata": {},
   "outputs": [],
   "source": [
    "Train_model4_processed = pd.get_dummies(Train_model4, columns=['Revenue','Size'])"
   ]
  },
  {
   "cell_type": "code",
   "execution_count": 10,
   "metadata": {},
   "outputs": [],
   "source": [
    "# fill nan value\n",
    "Train_model4_processed['Age of company'].fillna(np.random.normal(Train_model4_processed['Age of company'].mean(), Train_model4_processed['Age of company'].std()), inplace=True)\n",
    "Train_model4_processed['Rating'].fillna(np.random.normal(Train_model4_processed['Rating'].mean(), Train_model4_processed['Rating'].std()), inplace=True)"
   ]
  },
  {
   "cell_type": "code",
   "execution_count": 13,
   "metadata": {},
   "outputs": [],
   "source": [
    "count_vectorizer = CountVectorizer(max_df=0.5, min_df=0.01, ngram_range=(1,3), stop_words='english', max_features=1000 )\n",
    "job_description_count = count_vectorizer.fit_transform(Train_model4_processed['Job Description'])\n",
    "job_title_count = count_vectorizer.fit_transform(Train_model4_processed['Job Title'])"
   ]
  },
  {
   "cell_type": "code",
   "execution_count": 14,
   "metadata": {},
   "outputs": [],
   "source": [
    "tfidf_transformer = TfidfTransformer(smooth_idf=True, use_idf=True)\n",
    "\n",
    "descrip_tfidf = tfidf_transformer.fit_transform(job_description_count)\n",
    "title_tfidf = tfidf_transformer.fit_transform(job_title_count)"
   ]
  },
  {
   "cell_type": "code",
   "execution_count": 15,
   "metadata": {},
   "outputs": [
    {
     "data": {
      "text/plain": [
       "array([0, 1, 0, ..., 3, 2, 2], dtype=int8)"
      ]
     },
     "execution_count": 15,
     "metadata": {},
     "output_type": "execute_result"
    }
   ],
   "source": [
    "target_data.cat.codes.values"
   ]
  },
  {
   "cell_type": "code",
   "execution_count": 16,
   "metadata": {},
   "outputs": [],
   "source": [
    "Y = to_categorical(target_data.cat.codes.values)"
   ]
  },
  {
   "cell_type": "code",
   "execution_count": 17,
   "metadata": {},
   "outputs": [],
   "source": [
    "Full_data = np.concatenate((descrip_tfidf.toarray(), title_tfidf.toarray(), Train_model4_processed.iloc[:,2:].values), axis=1)"
   ]
  },
  {
   "cell_type": "code",
   "execution_count": 18,
   "metadata": {},
   "outputs": [],
   "source": [
    "X_train_4, X_test_4, y_train_4, y_test_4 = train_test_split(Full_data, Y, test_size=0.15, random_state=0)"
   ]
  },
  {
   "cell_type": "code",
   "execution_count": 19,
   "metadata": {},
   "outputs": [
    {
     "data": {
      "text/plain": [
       "(5993, 1111)"
      ]
     },
     "execution_count": 19,
     "metadata": {},
     "output_type": "execute_result"
    }
   ],
   "source": [
    "X_train_4.shape"
   ]
  },
  {
   "cell_type": "code",
   "execution_count": 48,
   "metadata": {},
   "outputs": [
    {
     "data": {
      "text/plain": [
       "(1058, 6822)"
      ]
     },
     "execution_count": 48,
     "metadata": {},
     "output_type": "execute_result"
    }
   ],
   "source": [
    "X_test_4.shape"
   ]
  },
  {
   "cell_type": "code",
   "execution_count": null,
   "metadata": {},
   "outputs": [],
   "source": []
  },
  {
   "cell_type": "code",
   "execution_count": 20,
   "metadata": {},
   "outputs": [
    {
     "name": "stderr",
     "output_type": "stream",
     "text": [
      "c:\\Users\\admin\\AppData\\Local\\Programs\\Python\\Python311\\Lib\\site-packages\\keras\\src\\layers\\core\\dense.py:73: UserWarning: Do not pass an `input_shape`/`input_dim` argument to a layer. When using Sequential models, prefer using an `Input(shape)` object as the first layer in the model instead.\n",
      "  super().__init__(activity_regularizer=activity_regularizer, **kwargs)\n"
     ]
    },
    {
     "data": {
      "text/html": [
       "<pre style=\"white-space:pre;overflow-x:auto;line-height:normal;font-family:Menlo,'DejaVu Sans Mono',consolas,'Courier New',monospace\"><span style=\"font-weight: bold\">Model: \"sequential\"</span>\n",
       "</pre>\n"
      ],
      "text/plain": [
       "\u001b[1mModel: \"sequential\"\u001b[0m\n"
      ]
     },
     "metadata": {},
     "output_type": "display_data"
    },
    {
     "data": {
      "text/html": [
       "<pre style=\"white-space:pre;overflow-x:auto;line-height:normal;font-family:Menlo,'DejaVu Sans Mono',consolas,'Courier New',monospace\">┏━━━━━━━━━━━━━━━━━━━━━━━━━━━━━━━━━┳━━━━━━━━━━━━━━━━━━━━━━━━━━━┳━━━━━━━━━━━━┓\n",
       "┃<span style=\"font-weight: bold\"> Layer (type)                    </span>┃<span style=\"font-weight: bold\"> Output Shape              </span>┃<span style=\"font-weight: bold\">    Param # </span>┃\n",
       "┡━━━━━━━━━━━━━━━━━━━━━━━━━━━━━━━━━╇━━━━━━━━━━━━━━━━━━━━━━━━━━━╇━━━━━━━━━━━━┩\n",
       "│ dense (<span style=\"color: #0087ff; text-decoration-color: #0087ff\">Dense</span>)                   │ (<span style=\"color: #00d7ff; text-decoration-color: #00d7ff\">None</span>, <span style=\"color: #00af00; text-decoration-color: #00af00\">1024</span>)              │  <span style=\"color: #00af00; text-decoration-color: #00af00\">1,138,688</span> │\n",
       "├─────────────────────────────────┼───────────────────────────┼────────────┤\n",
       "│ dropout (<span style=\"color: #0087ff; text-decoration-color: #0087ff\">Dropout</span>)               │ (<span style=\"color: #00d7ff; text-decoration-color: #00d7ff\">None</span>, <span style=\"color: #00af00; text-decoration-color: #00af00\">1024</span>)              │          <span style=\"color: #00af00; text-decoration-color: #00af00\">0</span> │\n",
       "├─────────────────────────────────┼───────────────────────────┼────────────┤\n",
       "│ dense_1 (<span style=\"color: #0087ff; text-decoration-color: #0087ff\">Dense</span>)                 │ (<span style=\"color: #00d7ff; text-decoration-color: #00d7ff\">None</span>, <span style=\"color: #00af00; text-decoration-color: #00af00\">512</span>)               │    <span style=\"color: #00af00; text-decoration-color: #00af00\">524,800</span> │\n",
       "├─────────────────────────────────┼───────────────────────────┼────────────┤\n",
       "│ dropout_1 (<span style=\"color: #0087ff; text-decoration-color: #0087ff\">Dropout</span>)             │ (<span style=\"color: #00d7ff; text-decoration-color: #00d7ff\">None</span>, <span style=\"color: #00af00; text-decoration-color: #00af00\">512</span>)               │          <span style=\"color: #00af00; text-decoration-color: #00af00\">0</span> │\n",
       "├─────────────────────────────────┼───────────────────────────┼────────────┤\n",
       "│ dense_2 (<span style=\"color: #0087ff; text-decoration-color: #0087ff\">Dense</span>)                 │ (<span style=\"color: #00d7ff; text-decoration-color: #00d7ff\">None</span>, <span style=\"color: #00af00; text-decoration-color: #00af00\">512</span>)               │    <span style=\"color: #00af00; text-decoration-color: #00af00\">262,656</span> │\n",
       "├─────────────────────────────────┼───────────────────────────┼────────────┤\n",
       "│ dropout_2 (<span style=\"color: #0087ff; text-decoration-color: #0087ff\">Dropout</span>)             │ (<span style=\"color: #00d7ff; text-decoration-color: #00d7ff\">None</span>, <span style=\"color: #00af00; text-decoration-color: #00af00\">512</span>)               │          <span style=\"color: #00af00; text-decoration-color: #00af00\">0</span> │\n",
       "├─────────────────────────────────┼───────────────────────────┼────────────┤\n",
       "│ dense_3 (<span style=\"color: #0087ff; text-decoration-color: #0087ff\">Dense</span>)                 │ (<span style=\"color: #00d7ff; text-decoration-color: #00d7ff\">None</span>, <span style=\"color: #00af00; text-decoration-color: #00af00\">256</span>)               │    <span style=\"color: #00af00; text-decoration-color: #00af00\">131,328</span> │\n",
       "├─────────────────────────────────┼───────────────────────────┼────────────┤\n",
       "│ dropout_3 (<span style=\"color: #0087ff; text-decoration-color: #0087ff\">Dropout</span>)             │ (<span style=\"color: #00d7ff; text-decoration-color: #00d7ff\">None</span>, <span style=\"color: #00af00; text-decoration-color: #00af00\">256</span>)               │          <span style=\"color: #00af00; text-decoration-color: #00af00\">0</span> │\n",
       "├─────────────────────────────────┼───────────────────────────┼────────────┤\n",
       "│ dense_4 (<span style=\"color: #0087ff; text-decoration-color: #0087ff\">Dense</span>)                 │ (<span style=\"color: #00d7ff; text-decoration-color: #00d7ff\">None</span>, <span style=\"color: #00af00; text-decoration-color: #00af00\">128</span>)               │     <span style=\"color: #00af00; text-decoration-color: #00af00\">32,896</span> │\n",
       "├─────────────────────────────────┼───────────────────────────┼────────────┤\n",
       "│ dropout_4 (<span style=\"color: #0087ff; text-decoration-color: #0087ff\">Dropout</span>)             │ (<span style=\"color: #00d7ff; text-decoration-color: #00d7ff\">None</span>, <span style=\"color: #00af00; text-decoration-color: #00af00\">128</span>)               │          <span style=\"color: #00af00; text-decoration-color: #00af00\">0</span> │\n",
       "├─────────────────────────────────┼───────────────────────────┼────────────┤\n",
       "│ dense_5 (<span style=\"color: #0087ff; text-decoration-color: #0087ff\">Dense</span>)                 │ (<span style=\"color: #00d7ff; text-decoration-color: #00d7ff\">None</span>, <span style=\"color: #00af00; text-decoration-color: #00af00\">128</span>)               │     <span style=\"color: #00af00; text-decoration-color: #00af00\">16,512</span> │\n",
       "├─────────────────────────────────┼───────────────────────────┼────────────┤\n",
       "│ dropout_5 (<span style=\"color: #0087ff; text-decoration-color: #0087ff\">Dropout</span>)             │ (<span style=\"color: #00d7ff; text-decoration-color: #00d7ff\">None</span>, <span style=\"color: #00af00; text-decoration-color: #00af00\">128</span>)               │          <span style=\"color: #00af00; text-decoration-color: #00af00\">0</span> │\n",
       "├─────────────────────────────────┼───────────────────────────┼────────────┤\n",
       "│ dense_6 (<span style=\"color: #0087ff; text-decoration-color: #0087ff\">Dense</span>)                 │ (<span style=\"color: #00d7ff; text-decoration-color: #00d7ff\">None</span>, <span style=\"color: #00af00; text-decoration-color: #00af00\">64</span>)                │      <span style=\"color: #00af00; text-decoration-color: #00af00\">8,256</span> │\n",
       "├─────────────────────────────────┼───────────────────────────┼────────────┤\n",
       "│ dropout_6 (<span style=\"color: #0087ff; text-decoration-color: #0087ff\">Dropout</span>)             │ (<span style=\"color: #00d7ff; text-decoration-color: #00d7ff\">None</span>, <span style=\"color: #00af00; text-decoration-color: #00af00\">64</span>)                │          <span style=\"color: #00af00; text-decoration-color: #00af00\">0</span> │\n",
       "├─────────────────────────────────┼───────────────────────────┼────────────┤\n",
       "│ dense_7 (<span style=\"color: #0087ff; text-decoration-color: #0087ff\">Dense</span>)                 │ (<span style=\"color: #00d7ff; text-decoration-color: #00d7ff\">None</span>, <span style=\"color: #00af00; text-decoration-color: #00af00\">32</span>)                │      <span style=\"color: #00af00; text-decoration-color: #00af00\">2,080</span> │\n",
       "├─────────────────────────────────┼───────────────────────────┼────────────┤\n",
       "│ dropout_7 (<span style=\"color: #0087ff; text-decoration-color: #0087ff\">Dropout</span>)             │ (<span style=\"color: #00d7ff; text-decoration-color: #00d7ff\">None</span>, <span style=\"color: #00af00; text-decoration-color: #00af00\">32</span>)                │          <span style=\"color: #00af00; text-decoration-color: #00af00\">0</span> │\n",
       "├─────────────────────────────────┼───────────────────────────┼────────────┤\n",
       "│ dense_8 (<span style=\"color: #0087ff; text-decoration-color: #0087ff\">Dense</span>)                 │ (<span style=\"color: #00d7ff; text-decoration-color: #00d7ff\">None</span>, <span style=\"color: #00af00; text-decoration-color: #00af00\">7</span>)                 │        <span style=\"color: #00af00; text-decoration-color: #00af00\">231</span> │\n",
       "└─────────────────────────────────┴───────────────────────────┴────────────┘\n",
       "</pre>\n"
      ],
      "text/plain": [
       "┏━━━━━━━━━━━━━━━━━━━━━━━━━━━━━━━━━┳━━━━━━━━━━━━━━━━━━━━━━━━━━━┳━━━━━━━━━━━━┓\n",
       "┃\u001b[1m \u001b[0m\u001b[1mLayer (type)                   \u001b[0m\u001b[1m \u001b[0m┃\u001b[1m \u001b[0m\u001b[1mOutput Shape             \u001b[0m\u001b[1m \u001b[0m┃\u001b[1m \u001b[0m\u001b[1m   Param #\u001b[0m\u001b[1m \u001b[0m┃\n",
       "┡━━━━━━━━━━━━━━━━━━━━━━━━━━━━━━━━━╇━━━━━━━━━━━━━━━━━━━━━━━━━━━╇━━━━━━━━━━━━┩\n",
       "│ dense (\u001b[38;5;33mDense\u001b[0m)                   │ (\u001b[38;5;45mNone\u001b[0m, \u001b[38;5;34m1024\u001b[0m)              │  \u001b[38;5;34m1,138,688\u001b[0m │\n",
       "├─────────────────────────────────┼───────────────────────────┼────────────┤\n",
       "│ dropout (\u001b[38;5;33mDropout\u001b[0m)               │ (\u001b[38;5;45mNone\u001b[0m, \u001b[38;5;34m1024\u001b[0m)              │          \u001b[38;5;34m0\u001b[0m │\n",
       "├─────────────────────────────────┼───────────────────────────┼────────────┤\n",
       "│ dense_1 (\u001b[38;5;33mDense\u001b[0m)                 │ (\u001b[38;5;45mNone\u001b[0m, \u001b[38;5;34m512\u001b[0m)               │    \u001b[38;5;34m524,800\u001b[0m │\n",
       "├─────────────────────────────────┼───────────────────────────┼────────────┤\n",
       "│ dropout_1 (\u001b[38;5;33mDropout\u001b[0m)             │ (\u001b[38;5;45mNone\u001b[0m, \u001b[38;5;34m512\u001b[0m)               │          \u001b[38;5;34m0\u001b[0m │\n",
       "├─────────────────────────────────┼───────────────────────────┼────────────┤\n",
       "│ dense_2 (\u001b[38;5;33mDense\u001b[0m)                 │ (\u001b[38;5;45mNone\u001b[0m, \u001b[38;5;34m512\u001b[0m)               │    \u001b[38;5;34m262,656\u001b[0m │\n",
       "├─────────────────────────────────┼───────────────────────────┼────────────┤\n",
       "│ dropout_2 (\u001b[38;5;33mDropout\u001b[0m)             │ (\u001b[38;5;45mNone\u001b[0m, \u001b[38;5;34m512\u001b[0m)               │          \u001b[38;5;34m0\u001b[0m │\n",
       "├─────────────────────────────────┼───────────────────────────┼────────────┤\n",
       "│ dense_3 (\u001b[38;5;33mDense\u001b[0m)                 │ (\u001b[38;5;45mNone\u001b[0m, \u001b[38;5;34m256\u001b[0m)               │    \u001b[38;5;34m131,328\u001b[0m │\n",
       "├─────────────────────────────────┼───────────────────────────┼────────────┤\n",
       "│ dropout_3 (\u001b[38;5;33mDropout\u001b[0m)             │ (\u001b[38;5;45mNone\u001b[0m, \u001b[38;5;34m256\u001b[0m)               │          \u001b[38;5;34m0\u001b[0m │\n",
       "├─────────────────────────────────┼───────────────────────────┼────────────┤\n",
       "│ dense_4 (\u001b[38;5;33mDense\u001b[0m)                 │ (\u001b[38;5;45mNone\u001b[0m, \u001b[38;5;34m128\u001b[0m)               │     \u001b[38;5;34m32,896\u001b[0m │\n",
       "├─────────────────────────────────┼───────────────────────────┼────────────┤\n",
       "│ dropout_4 (\u001b[38;5;33mDropout\u001b[0m)             │ (\u001b[38;5;45mNone\u001b[0m, \u001b[38;5;34m128\u001b[0m)               │          \u001b[38;5;34m0\u001b[0m │\n",
       "├─────────────────────────────────┼───────────────────────────┼────────────┤\n",
       "│ dense_5 (\u001b[38;5;33mDense\u001b[0m)                 │ (\u001b[38;5;45mNone\u001b[0m, \u001b[38;5;34m128\u001b[0m)               │     \u001b[38;5;34m16,512\u001b[0m │\n",
       "├─────────────────────────────────┼───────────────────────────┼────────────┤\n",
       "│ dropout_5 (\u001b[38;5;33mDropout\u001b[0m)             │ (\u001b[38;5;45mNone\u001b[0m, \u001b[38;5;34m128\u001b[0m)               │          \u001b[38;5;34m0\u001b[0m │\n",
       "├─────────────────────────────────┼───────────────────────────┼────────────┤\n",
       "│ dense_6 (\u001b[38;5;33mDense\u001b[0m)                 │ (\u001b[38;5;45mNone\u001b[0m, \u001b[38;5;34m64\u001b[0m)                │      \u001b[38;5;34m8,256\u001b[0m │\n",
       "├─────────────────────────────────┼───────────────────────────┼────────────┤\n",
       "│ dropout_6 (\u001b[38;5;33mDropout\u001b[0m)             │ (\u001b[38;5;45mNone\u001b[0m, \u001b[38;5;34m64\u001b[0m)                │          \u001b[38;5;34m0\u001b[0m │\n",
       "├─────────────────────────────────┼───────────────────────────┼────────────┤\n",
       "│ dense_7 (\u001b[38;5;33mDense\u001b[0m)                 │ (\u001b[38;5;45mNone\u001b[0m, \u001b[38;5;34m32\u001b[0m)                │      \u001b[38;5;34m2,080\u001b[0m │\n",
       "├─────────────────────────────────┼───────────────────────────┼────────────┤\n",
       "│ dropout_7 (\u001b[38;5;33mDropout\u001b[0m)             │ (\u001b[38;5;45mNone\u001b[0m, \u001b[38;5;34m32\u001b[0m)                │          \u001b[38;5;34m0\u001b[0m │\n",
       "├─────────────────────────────────┼───────────────────────────┼────────────┤\n",
       "│ dense_8 (\u001b[38;5;33mDense\u001b[0m)                 │ (\u001b[38;5;45mNone\u001b[0m, \u001b[38;5;34m7\u001b[0m)                 │        \u001b[38;5;34m231\u001b[0m │\n",
       "└─────────────────────────────────┴───────────────────────────┴────────────┘\n"
      ]
     },
     "metadata": {},
     "output_type": "display_data"
    },
    {
     "data": {
      "text/html": [
       "<pre style=\"white-space:pre;overflow-x:auto;line-height:normal;font-family:Menlo,'DejaVu Sans Mono',consolas,'Courier New',monospace\"><span style=\"font-weight: bold\"> Total params: </span><span style=\"color: #00af00; text-decoration-color: #00af00\">2,117,447</span> (8.08 MB)\n",
       "</pre>\n"
      ],
      "text/plain": [
       "\u001b[1m Total params: \u001b[0m\u001b[38;5;34m2,117,447\u001b[0m (8.08 MB)\n"
      ]
     },
     "metadata": {},
     "output_type": "display_data"
    },
    {
     "data": {
      "text/html": [
       "<pre style=\"white-space:pre;overflow-x:auto;line-height:normal;font-family:Menlo,'DejaVu Sans Mono',consolas,'Courier New',monospace\"><span style=\"font-weight: bold\"> Trainable params: </span><span style=\"color: #00af00; text-decoration-color: #00af00\">2,117,447</span> (8.08 MB)\n",
       "</pre>\n"
      ],
      "text/plain": [
       "\u001b[1m Trainable params: \u001b[0m\u001b[38;5;34m2,117,447\u001b[0m (8.08 MB)\n"
      ]
     },
     "metadata": {},
     "output_type": "display_data"
    },
    {
     "data": {
      "text/html": [
       "<pre style=\"white-space:pre;overflow-x:auto;line-height:normal;font-family:Menlo,'DejaVu Sans Mono',consolas,'Courier New',monospace\"><span style=\"font-weight: bold\"> Non-trainable params: </span><span style=\"color: #00af00; text-decoration-color: #00af00\">0</span> (0.00 B)\n",
       "</pre>\n"
      ],
      "text/plain": [
       "\u001b[1m Non-trainable params: \u001b[0m\u001b[38;5;34m0\u001b[0m (0.00 B)\n"
      ]
     },
     "metadata": {},
     "output_type": "display_data"
    }
   ],
   "source": [
    "model = Sequential()\n",
    "model.add(Dense(1024, input_dim=X_train_4.shape[1], activation='relu'))\n",
    "model.add(Dropout(0.2))\n",
    "model.add(Dense(512, activation='relu'))\n",
    "model.add(Dropout(0.2))\n",
    "model.add(Dense(512, activation='relu'))\n",
    "model.add(Dropout(0.2))\n",
    "model.add(Dense(256, activation='relu'))\n",
    "model.add(Dropout(0.2))\n",
    "model.add(Dense(128, activation='relu'))\n",
    "model.add(Dropout(0.2))\n",
    "model.add(Dense(128, activation='relu'))\n",
    "model.add(Dropout(0.3))\n",
    "model.add(Dense(64, activation='relu'))\n",
    "model.add(Dropout(0.3))\n",
    "model.add(Dense(32, activation='relu'))\n",
    "model.add(Dropout(0.3))\n",
    "\n",
    "model.add(Dense(7, activation='softmax'))\n",
    "\n",
    "\n",
    "\n",
    "# loss function\n",
    "loss = 'categorical_crossentropy'\n",
    "\n",
    "# optimizer\n",
    "optimizer = optimizers.Adam()\n",
    "# metrics\n",
    "metrics = ['accuracy']\n",
    "\n",
    "# compile model\n",
    "model.compile(optimizer=optimizer, loss=loss, metrics=metrics)\n",
    "\n",
    "\n",
    "\n",
    "model.summary()"
   ]
  },
  {
   "cell_type": "code",
   "execution_count": 29,
   "metadata": {},
   "outputs": [
    {
     "name": "stdout",
     "output_type": "stream",
     "text": [
      "Epoch 1/100\n"
     ]
    },
    {
     "name": "stdout",
     "output_type": "stream",
     "text": [
      "\u001b[1m85/85\u001b[0m \u001b[32m━━━━━━━━━━━━━━━━━━━━\u001b[0m\u001b[37m\u001b[0m \u001b[1m2s\u001b[0m 26ms/step - accuracy: 0.7090 - loss: 0.7182 - val_accuracy: 0.5267 - val_loss: 2.9057\n",
      "Epoch 2/100\n",
      "\u001b[1m85/85\u001b[0m \u001b[32m━━━━━━━━━━━━━━━━━━━━\u001b[0m\u001b[37m\u001b[0m \u001b[1m2s\u001b[0m 26ms/step - accuracy: 0.7009 - loss: 0.6679 - val_accuracy: 0.5150 - val_loss: 3.0218\n",
      "Epoch 3/100\n",
      "\u001b[1m85/85\u001b[0m \u001b[32m━━━━━━━━━━━━━━━━━━━━\u001b[0m\u001b[37m\u001b[0m \u001b[1m2s\u001b[0m 27ms/step - accuracy: 0.7047 - loss: 0.7019 - val_accuracy: 0.5000 - val_loss: 3.2278\n",
      "Epoch 4/100\n",
      "\u001b[1m85/85\u001b[0m \u001b[32m━━━━━━━━━━━━━━━━━━━━\u001b[0m\u001b[37m\u001b[0m \u001b[1m2s\u001b[0m 26ms/step - accuracy: 0.7068 - loss: 0.6719 - val_accuracy: 0.4950 - val_loss: 3.2979\n",
      "Epoch 5/100\n",
      "\u001b[1m85/85\u001b[0m \u001b[32m━━━━━━━━━━━━━━━━━━━━\u001b[0m\u001b[37m\u001b[0m \u001b[1m2s\u001b[0m 25ms/step - accuracy: 0.7207 - loss: 0.6548 - val_accuracy: 0.5300 - val_loss: 3.0434\n",
      "Epoch 6/100\n",
      "\u001b[1m85/85\u001b[0m \u001b[32m━━━━━━━━━━━━━━━━━━━━\u001b[0m\u001b[37m\u001b[0m \u001b[1m2s\u001b[0m 26ms/step - accuracy: 0.7195 - loss: 0.6721 - val_accuracy: 0.5467 - val_loss: 2.9424\n",
      "Epoch 7/100\n",
      "\u001b[1m85/85\u001b[0m \u001b[32m━━━━━━━━━━━━━━━━━━━━\u001b[0m\u001b[37m\u001b[0m \u001b[1m2s\u001b[0m 26ms/step - accuracy: 0.6956 - loss: 0.6786 - val_accuracy: 0.5217 - val_loss: 2.7836\n",
      "Epoch 8/100\n",
      "\u001b[1m85/85\u001b[0m \u001b[32m━━━━━━━━━━━━━━━━━━━━\u001b[0m\u001b[37m\u001b[0m \u001b[1m2s\u001b[0m 26ms/step - accuracy: 0.7270 - loss: 0.6416 - val_accuracy: 0.5417 - val_loss: 3.0453\n",
      "Epoch 9/100\n",
      "\u001b[1m85/85\u001b[0m \u001b[32m━━━━━━━━━━━━━━━━━━━━\u001b[0m\u001b[37m\u001b[0m \u001b[1m2s\u001b[0m 27ms/step - accuracy: 0.7388 - loss: 0.6275 - val_accuracy: 0.5283 - val_loss: 2.9207\n",
      "Epoch 10/100\n",
      "\u001b[1m85/85\u001b[0m \u001b[32m━━━━━━━━━━━━━━━━━━━━\u001b[0m\u001b[37m\u001b[0m \u001b[1m2s\u001b[0m 26ms/step - accuracy: 0.7027 - loss: 0.7234 - val_accuracy: 0.5083 - val_loss: 2.8578\n",
      "Epoch 11/100\n",
      "\u001b[1m85/85\u001b[0m \u001b[32m━━━━━━━━━━━━━━━━━━━━\u001b[0m\u001b[37m\u001b[0m \u001b[1m2s\u001b[0m 27ms/step - accuracy: 0.7255 - loss: 0.6161 - val_accuracy: 0.5200 - val_loss: 3.5816\n",
      "Epoch 12/100\n",
      "\u001b[1m85/85\u001b[0m \u001b[32m━━━━━━━━━━━━━━━━━━━━\u001b[0m\u001b[37m\u001b[0m \u001b[1m2s\u001b[0m 26ms/step - accuracy: 0.7428 - loss: 0.5882 - val_accuracy: 0.5217 - val_loss: 3.4386\n",
      "Epoch 13/100\n",
      "\u001b[1m85/85\u001b[0m \u001b[32m━━━━━━━━━━━━━━━━━━━━\u001b[0m\u001b[37m\u001b[0m \u001b[1m2s\u001b[0m 26ms/step - accuracy: 0.7328 - loss: 0.6392 - val_accuracy: 0.5367 - val_loss: 3.2044\n",
      "Epoch 14/100\n",
      "\u001b[1m85/85\u001b[0m \u001b[32m━━━━━━━━━━━━━━━━━━━━\u001b[0m\u001b[37m\u001b[0m \u001b[1m2s\u001b[0m 27ms/step - accuracy: 0.7368 - loss: 0.6189 - val_accuracy: 0.5467 - val_loss: 2.4660\n",
      "Epoch 15/100\n",
      "\u001b[1m85/85\u001b[0m \u001b[32m━━━━━━━━━━━━━━━━━━━━\u001b[0m\u001b[37m\u001b[0m \u001b[1m2s\u001b[0m 27ms/step - accuracy: 0.7258 - loss: 0.6388 - val_accuracy: 0.5583 - val_loss: 2.9783\n",
      "Epoch 16/100\n",
      "\u001b[1m85/85\u001b[0m \u001b[32m━━━━━━━━━━━━━━━━━━━━\u001b[0m\u001b[37m\u001b[0m \u001b[1m2s\u001b[0m 26ms/step - accuracy: 0.7549 - loss: 0.5588 - val_accuracy: 0.5500 - val_loss: 3.6859\n",
      "Epoch 17/100\n",
      "\u001b[1m85/85\u001b[0m \u001b[32m━━━━━━━━━━━━━━━━━━━━\u001b[0m\u001b[37m\u001b[0m \u001b[1m2s\u001b[0m 26ms/step - accuracy: 0.7526 - loss: 0.6000 - val_accuracy: 0.5300 - val_loss: 3.8097\n",
      "Epoch 18/100\n",
      "\u001b[1m85/85\u001b[0m \u001b[32m━━━━━━━━━━━━━━━━━━━━\u001b[0m\u001b[37m\u001b[0m \u001b[1m2s\u001b[0m 27ms/step - accuracy: 0.7596 - loss: 0.5850 - val_accuracy: 0.5483 - val_loss: 3.3291\n",
      "Epoch 19/100\n",
      "\u001b[1m85/85\u001b[0m \u001b[32m━━━━━━━━━━━━━━━━━━━━\u001b[0m\u001b[37m\u001b[0m \u001b[1m2s\u001b[0m 27ms/step - accuracy: 0.7432 - loss: 0.5956 - val_accuracy: 0.5333 - val_loss: 2.8649\n",
      "Epoch 20/100\n",
      "\u001b[1m85/85\u001b[0m \u001b[32m━━━━━━━━━━━━━━━━━━━━\u001b[0m\u001b[37m\u001b[0m \u001b[1m2s\u001b[0m 27ms/step - accuracy: 0.7440 - loss: 0.6480 - val_accuracy: 0.5650 - val_loss: 3.4267\n",
      "Epoch 21/100\n",
      "\u001b[1m85/85\u001b[0m \u001b[32m━━━━━━━━━━━━━━━━━━━━\u001b[0m\u001b[37m\u001b[0m \u001b[1m2s\u001b[0m 26ms/step - accuracy: 0.7600 - loss: 0.5902 - val_accuracy: 0.5200 - val_loss: 3.7744\n",
      "Epoch 22/100\n",
      "\u001b[1m85/85\u001b[0m \u001b[32m━━━━━━━━━━━━━━━━━━━━\u001b[0m\u001b[37m\u001b[0m \u001b[1m2s\u001b[0m 26ms/step - accuracy: 0.7515 - loss: 0.6064 - val_accuracy: 0.5617 - val_loss: 3.0754\n",
      "Epoch 23/100\n",
      "\u001b[1m85/85\u001b[0m \u001b[32m━━━━━━━━━━━━━━━━━━━━\u001b[0m\u001b[37m\u001b[0m \u001b[1m2s\u001b[0m 26ms/step - accuracy: 0.7833 - loss: 0.5425 - val_accuracy: 0.5617 - val_loss: 3.7176\n",
      "Epoch 24/100\n",
      "\u001b[1m85/85\u001b[0m \u001b[32m━━━━━━━━━━━━━━━━━━━━\u001b[0m\u001b[37m\u001b[0m \u001b[1m2s\u001b[0m 26ms/step - accuracy: 0.7770 - loss: 0.5379 - val_accuracy: 0.5217 - val_loss: 3.8408\n",
      "Epoch 25/100\n",
      "\u001b[1m85/85\u001b[0m \u001b[32m━━━━━━━━━━━━━━━━━━━━\u001b[0m\u001b[37m\u001b[0m \u001b[1m2s\u001b[0m 26ms/step - accuracy: 0.7570 - loss: 0.5976 - val_accuracy: 0.5483 - val_loss: 3.8737\n",
      "Epoch 26/100\n",
      "\u001b[1m85/85\u001b[0m \u001b[32m━━━━━━━━━━━━━━━━━━━━\u001b[0m\u001b[37m\u001b[0m \u001b[1m2s\u001b[0m 26ms/step - accuracy: 0.7784 - loss: 0.5630 - val_accuracy: 0.5517 - val_loss: 4.0231\n",
      "Epoch 27/100\n",
      "\u001b[1m85/85\u001b[0m \u001b[32m━━━━━━━━━━━━━━━━━━━━\u001b[0m\u001b[37m\u001b[0m \u001b[1m2s\u001b[0m 26ms/step - accuracy: 0.7849 - loss: 0.5338 - val_accuracy: 0.5633 - val_loss: 3.5319\n",
      "Epoch 28/100\n",
      "\u001b[1m85/85\u001b[0m \u001b[32m━━━━━━━━━━━━━━━━━━━━\u001b[0m\u001b[37m\u001b[0m \u001b[1m2s\u001b[0m 27ms/step - accuracy: 0.7882 - loss: 0.5273 - val_accuracy: 0.5433 - val_loss: 3.7224\n",
      "Epoch 29/100\n",
      "\u001b[1m85/85\u001b[0m \u001b[32m━━━━━━━━━━━━━━━━━━━━\u001b[0m\u001b[37m\u001b[0m \u001b[1m2s\u001b[0m 26ms/step - accuracy: 0.7806 - loss: 0.5363 - val_accuracy: 0.5267 - val_loss: 3.7187\n",
      "Epoch 29: early stopping\n"
     ]
    }
   ],
   "source": [
    "es = EarlyStopping(monitor='val_loss', mode='min', verbose=1, patience=15)\n",
    "history = model.fit(X_train_4, y_train_4, epochs=100, batch_size=64, validation_split=0.1, callbacks=[es])"
   ]
  },
  {
   "cell_type": "code",
   "execution_count": 30,
   "metadata": {},
   "outputs": [
    {
     "name": "stdout",
     "output_type": "stream",
     "text": [
      "Train: 0.796, Test: 0.521\n"
     ]
    },
    {
     "data": {
      "image/png": "[encoded data removed]",
      "text/plain": [
       "<Figure size 640x480 with 1 Axes>"
      ]
     },
     "metadata": {},
     "output_type": "display_data"
    }
   ],
   "source": [
    "_, train_acc = model.evaluate(X_train_4, y_train_4, verbose=0)\n",
    "_, test_acc = model.evaluate(X_test_4, y_test_4, verbose=0)\n",
    "print('Train: %.3f, Test: %.3f' % (train_acc, test_acc))\n",
    "\n",
    "# plot loss during training\n",
    "plt.plot(history.history['accuracy'], label='train')\n",
    "plt.plot(history.history['val_accuracy'], label='test')\n",
    "plt.title('Training and test Accuracy at each epoch', fontsize=14)\n",
    "plt.legend()\n",
    "plt.show()"
   ]
  },
  {
   "cell_type": "code",
   "execution_count": 27,
   "metadata": {},
   "outputs": [
    {
     "name": "stdout",
     "output_type": "stream",
     "text": [
      "Train: 0.698, Test: 0.459\n"
     ]
    }
   ],
   "source": [
    "# evaluate the model\n",
    "_, train_acc = model.evaluate(X_train_4, y_train_4, verbose=0)\n",
    "_, test_acc = model.evaluate(X_test_4, y_test_4, verbose=0)\n",
    "print('Train: %.3f, Test: %.3f' % (train_acc, test_acc))"
   ]
  },
  {
   "cell_type": "code",
   "execution_count": null,
   "metadata": {},
   "outputs": [],
   "source": [
    "model2 = Sequential()\n",
    "model2.add(Dense(512, input_shape=(x_train_glove.shape[1],), activation='relu'))\n",
    "model2.add(Dropout(0.5))\n",
    "model2.add(Dense(256, activation='relu'))\n",
    "model2.add(Dropout(0.5))\n",
    "model2.add(Dense(256, activation='relu'))\n",
    "model2.add(Dropout(0.5))\n",
    "model2.add(Dense(128, activation='relu'))\n",
    "model2.add(Dropout(0.5))\n",
    "model2.add(Dense(64, activation='relu'))\n",
    "model2.add(Dropout(0.5))\n",
    "model2.add(Dense(64, activation='relu'))\n",
    "model2.add(Dropout(0.5))\n",
    "model2.add(Dense(7, activation='softmax'))\n",
    "\n",
    "model2.compile(loss='categorical_crossentropy', optimizer='adam', metrics=['accuracy'])\n",
    "\n",
    "model2.summary()"
   ]
  },
  {
   "cell_type": "code",
   "execution_count": null,
   "metadata": {},
   "outputs": [],
   "source": []
  },
  {
   "cell_type": "code",
   "execution_count": null,
   "metadata": {},
   "outputs": [],
   "source": [
    "# Use Pretrained GloVe Model in Neural Network\n",
    "history2 = model2.fit(x_train_glove, y_train_4, epochs=100, batch_size=64, validation_split=0.1, callbacks=[es])"
   ]
  }
 ],
 "metadata": {
  "kernelspec": {
   "display_name": "Python 3",
   "language": "python",
   "name": "python3"
  },
  "language_info": {
   "codemirror_mode": {
    "name": "ipython",
    "version": 3
   },
   "file_extension": ".py",
   "mimetype": "text/x-python",
   "name": "python",
   "nbconvert_exporter": "python",
   "pygments_lexer": "ipython3",
   "version": "3.11.0"
  }
 },
 "nbformat": 4,
 "nbformat_minor": 2
}
